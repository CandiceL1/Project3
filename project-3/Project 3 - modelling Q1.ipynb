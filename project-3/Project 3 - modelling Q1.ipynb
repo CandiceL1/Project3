{
 "cells": [
  {
   "cell_type": "markdown",
   "metadata": {},
   "source": [
    "# <img src=\"http://imgur.com/l5NasQj.png\" style=\"float: left; margin: 25px 15px 0px 0px; height: 25px\">\n",
    "\n",
    "## 1. Estimating the value of homes from fixed characteristics.\n",
    "\n",
    "---\n",
    "\n",
    "Your superiors have outlined this year's strategy for the company:\n",
    "1. Develop an algorithm to reliably estimate the value of residential houses based on *fixed* characteristics.\n",
    "2. Identify characteristics of houses that the company can cost-effectively change/renovate with their construction team.\n",
    "3. Evaluate the mean dollar value of different renovations.\n",
    "\n",
    "Then we can use that to buy houses that are likely to sell for more than the cost of the purchase plus renovations.\n",
    "\n",
    "Your first job is to tackle #1. You have a dataset of housing sale data with a huge amount of features identifying different aspects of the house. The full description of the data features can be found in a separate file:\n",
    "\n",
    "    housing.csv\n",
    "    data_description.txt\n",
    "    \n",
    "You need to build a reliable estimator for the price of the house given characteristics of the house that cannot be renovated. Some examples include:\n",
    "- The neighborhood\n",
    "- Square feet\n",
    "- Bedrooms, bathrooms\n",
    "- Basement and garage space\n",
    "\n",
    "and many more. \n",
    "\n",
    "Some examples of things that **ARE renovate-able:**\n",
    "- Roof and exterior features\n",
    "- \"Quality\" metrics, such as kitchen quality\n",
    "- \"Condition\" metrics, such as condition of garage\n",
    "- Heating and electrical components\n",
    "\n",
    "and generally anything you deem can be modified without having to undergo major construction on the house.\n",
    "\n",
    "---\n",
    "\n",
    "**Your goals:**\n",
    "1. Perform any cleaning, feature engineering, and EDA you deem necessary.\n",
    "- Be sure to remove any houses that are not residential from the dataset.\n",
    "- Identify **fixed** features that can predict price.\n",
    "- Train a model on pre-2010 data and evaluate its performance on the 2010 houses.\n",
    "- Characterize your model. How well does it perform? What are the best estimates of price?\n",
    "\n",
    "> **Note:** The EDA and feature engineering component to this project is not trivial! Be sure to always think critically and creatively. Justify your actions! Use the data description file!"
   ]
  },
  {
   "cell_type": "code",
   "execution_count": 1,
   "metadata": {},
   "outputs": [],
   "source": [
    "import numpy as np\n",
    "import scipy.stats as stats\n",
    "import seaborn as sns\n",
    "import matplotlib.pyplot as plt\n",
    "import pandas as pd\n",
    "\n",
    "sns.set_style('whitegrid')\n",
    "\n",
    "%config InlineBackend.figure_format = 'retina'\n",
    "%matplotlib inline"
   ]
  },
  {
   "cell_type": "code",
   "execution_count": 2,
   "metadata": {},
   "outputs": [],
   "source": [
    "from sklearn.model_selection import train_test_split,KFold, cross_val_score, cross_val_predict\n",
    "from sklearn.preprocessing import StandardScaler\n",
    "from sklearn import metrics\n",
    "from sklearn.linear_model import Lasso, ElasticNet, Ridge, LassoCV, ElasticNetCV, \\\n",
    "RidgeCV, LinearRegression\n",
    "from sklearn.metrics import mean_squared_error\n",
    "\n",
    "import statsmodels.formula.api as sm\n",
    "import statsmodels.api as smf"
   ]
  },
  {
   "cell_type": "code",
   "execution_count": 3,
   "metadata": {},
   "outputs": [],
   "source": [
    "pd.set_option('display.max_columns', 100)\n",
    "fixeddf = pd.read_pickle(\"./fixeddf.pkl\")\n",
    "locationdf = pd.read_pickle(\"./locationdf.pkl\")\n",
    "universaldf =pd.read_pickle(\"./universaldf.pkl\")\n",
    "variabledf = pd.read_pickle(\"./variabledf.pkl\")"
   ]
  },
  {
   "cell_type": "code",
   "execution_count": 4,
   "metadata": {},
   "outputs": [],
   "source": [
    "# join all dfs together\n",
    "dfs = [fixeddf, locationdf, universaldf, variabledf]\n",
    "dfs = pd.concat(dfs, axis=1)"
   ]
  },
  {
   "cell_type": "code",
   "execution_count": 5,
   "metadata": {},
   "outputs": [],
   "source": [
    "# split data into train and test\n",
    "X = dfs.drop('SalePrice', axis=1)\n",
    "y = dfs.SalePrice\n",
    "Xtrain = X[X.YrSold != 2010]\n",
    "y_train = dfs[dfs.YrSold !=  2010].SalePrice\n",
    "Xtest = X[X.YrSold == 2010]\n",
    "y_test = dfs[dfs.YrSold ==  2010].SalePrice\n",
    "# drop saleprice from universaldf\n",
    "universaldf.drop('SalePrice', axis=1, inplace=True)"
   ]
  },
  {
   "cell_type": "code",
   "execution_count": 6,
   "metadata": {},
   "outputs": [],
   "source": [
    "# write function to slice and dice X variable\n",
    "ss = StandardScaler()\n",
    "def slicex(colcats):\n",
    "    Xtrn = Xtrain[colcats.columns] \n",
    "    Xtst = Xtest[colcats.columns]            \n",
    "    # standardize X VALUES using list of x variables\n",
    "    Xtrnstd = pd.DataFrame(ss.fit_transform(Xtrn), columns=colcats.columns)\n",
    "    Xtststd = pd.DataFrame(ss.transform(Xtst), columns=colcats.columns)\n",
    "    return Xtrnstd, Xtststd\n"
   ]
  },
  {
   "cell_type": "code",
   "execution_count": 7,
   "metadata": {},
   "outputs": [
    {
     "name": "stderr",
     "output_type": "stream",
     "text": [
      "C:\\Users\\schen24\\Anaconda3\\lib\\site-packages\\sklearn\\preprocessing\\data.py:625: DataConversionWarning: Data with input dtype uint8 were all converted to float64 by StandardScaler.\n",
      "  return self.partial_fit(X, y)\n",
      "C:\\Users\\schen24\\Anaconda3\\lib\\site-packages\\sklearn\\base.py:462: DataConversionWarning: Data with input dtype uint8 were all converted to float64 by StandardScaler.\n",
      "  return self.fit(X, **fit_params).transform(X)\n",
      "C:\\Users\\schen24\\Anaconda3\\lib\\site-packages\\ipykernel_launcher.py:8: DataConversionWarning: Data with input dtype uint8 were all converted to float64 by StandardScaler.\n",
      "  \n",
      "C:\\Users\\schen24\\Anaconda3\\lib\\site-packages\\sklearn\\preprocessing\\data.py:625: DataConversionWarning: Data with input dtype uint8 were all converted to float64 by StandardScaler.\n",
      "  return self.partial_fit(X, y)\n",
      "C:\\Users\\schen24\\Anaconda3\\lib\\site-packages\\sklearn\\base.py:462: DataConversionWarning: Data with input dtype uint8 were all converted to float64 by StandardScaler.\n",
      "  return self.fit(X, **fit_params).transform(X)\n",
      "C:\\Users\\schen24\\Anaconda3\\lib\\site-packages\\ipykernel_launcher.py:8: DataConversionWarning: Data with input dtype uint8 were all converted to float64 by StandardScaler.\n",
      "  \n"
     ]
    }
   ],
   "source": [
    "# run regression against location variables only\n",
    "X_train = slicex(locationdf)[0]\n",
    "X_test = slicex(locationdf)[1]"
   ]
  },
  {
   "cell_type": "code",
   "execution_count": 8,
   "metadata": {},
   "outputs": [
    {
     "name": "stdout",
     "output_type": "stream",
     "text": [
      "R2 baseline train: 0.5567256783158983\n",
      "R2 baseline test: 0.544764453330922\n",
      "Mean squared error: 2894114055.6824636\n"
     ]
    }
   ],
   "source": [
    "# run simple linear regression\n",
    "lm = LinearRegression()\n",
    "model = lm.fit(X_train, y_train)\n",
    "yhat_skl = lm.predict(X_test)\n",
    "print('R2 baseline train:',model.score(X_train, y_train))\n",
    "print('R2 baseline test:',model.score(X_test, y_test))\n",
    "print('Mean squared error:', mean_squared_error(y_test, yhat_skl))"
   ]
  },
  {
   "cell_type": "code",
   "execution_count": 9,
   "metadata": {},
   "outputs": [
    {
     "data": {
      "text/plain": [
       "Text(0.5,1,'Actual vs. Predicted Home Values')"
      ]
     },
     "execution_count": 9,
     "metadata": {},
     "output_type": "execute_result"
    },
    {
     "data": {
      "image/png": "[encoded data removed]",
      "text/plain": [
       "<Figure size 432x288 with 1 Axes>"
      ]
     },
     "metadata": {
      "image/png": {
       "height": 276,
       "width": 404
      },
      "needs_background": "light"
     },
     "output_type": "display_data"
    }
   ],
   "source": [
    "plt.plot([min(y_test), max(y_test)], [min(y_test), max(y_test)], c = 'k', alpha = .6)\n",
    "plt.scatter(y_test, yhat_skl, alpha = .5)\n",
    "plt.xlabel('actual price sold')\n",
    "plt.ylabel('predicted price sold')\n",
    "plt.title('Actual vs. Predicted Home Values')\n",
    "\n",
    "# 54.4% of house prices are attributed to location alone!  "
   ]
  },
  {
   "cell_type": "code",
   "execution_count": 10,
   "metadata": {},
   "outputs": [],
   "source": [
    "# now try all fixed factors\n",
    "allfixed = pd.concat([fixeddf, locationdf], axis=1)"
   ]
  },
  {
   "cell_type": "code",
   "execution_count": 11,
   "metadata": {},
   "outputs": [
    {
     "name": "stderr",
     "output_type": "stream",
     "text": [
      "C:\\Users\\schen24\\Anaconda3\\lib\\site-packages\\sklearn\\preprocessing\\data.py:625: DataConversionWarning: Data with input dtype uint8, int32, int64, float64 were all converted to float64 by StandardScaler.\n",
      "  return self.partial_fit(X, y)\n",
      "C:\\Users\\schen24\\Anaconda3\\lib\\site-packages\\sklearn\\base.py:462: DataConversionWarning: Data with input dtype uint8, int32, int64, float64 were all converted to float64 by StandardScaler.\n",
      "  return self.fit(X, **fit_params).transform(X)\n",
      "C:\\Users\\schen24\\Anaconda3\\lib\\site-packages\\ipykernel_launcher.py:8: DataConversionWarning: Data with input dtype uint8, int32, int64, float64 were all converted to float64 by StandardScaler.\n",
      "  \n",
      "C:\\Users\\schen24\\Anaconda3\\lib\\site-packages\\sklearn\\preprocessing\\data.py:625: DataConversionWarning: Data with input dtype uint8, int32, int64, float64 were all converted to float64 by StandardScaler.\n",
      "  return self.partial_fit(X, y)\n",
      "C:\\Users\\schen24\\Anaconda3\\lib\\site-packages\\sklearn\\base.py:462: DataConversionWarning: Data with input dtype uint8, int32, int64, float64 were all converted to float64 by StandardScaler.\n",
      "  return self.fit(X, **fit_params).transform(X)\n",
      "C:\\Users\\schen24\\Anaconda3\\lib\\site-packages\\ipykernel_launcher.py:8: DataConversionWarning: Data with input dtype uint8, int32, int64, float64 were all converted to float64 by StandardScaler.\n",
      "  \n"
     ]
    }
   ],
   "source": [
    "X_train = slicex(allfixed)[0]\n",
    "X_test = slicex(allfixed)[1]"
   ]
  },
  {
   "cell_type": "code",
   "execution_count": 12,
   "metadata": {},
   "outputs": [],
   "source": [
    "lm = LinearRegression()\n",
    "#cross-validate scores\n",
    "def crossval(X_train, y_train,X_test, y_test, splits=10):\n",
    "    kf_shuffle = KFold(n_splits=splits,shuffle=True)\n",
    "    scores = cross_val_score(lm, X_train, y_train, cv=kf_shuffle) \n",
    "    yhat_skl = cross_val_predict(lm, X_test, y_test, cv=kf_shuffle)\n",
    "    return np.mean(scores), np.std(scores), mean_squared_error(y_test, yhat_skl)"
   ]
  },
  {
   "cell_type": "code",
   "execution_count": 13,
   "metadata": {},
   "outputs": [
    {
     "data": {
      "text/plain": [
       "(0.8483203571148585, 0.027553740598383683, 3.106001386181794e+32)"
      ]
     },
     "execution_count": 13,
     "metadata": {},
     "output_type": "execute_result"
    }
   ],
   "source": [
    "SLRCVallfixed = crossval(X_train, y_train,X_test, y_test, splits=10)\n",
    "SLRCVallfixed\n",
    "# not bad!! let's go ahead and run linear regression"
   ]
  },
  {
   "cell_type": "code",
   "execution_count": 14,
   "metadata": {},
   "outputs": [
    {
     "name": "stdout",
     "output_type": "stream",
     "text": [
      "R2 baseline train score: 0.8720508024123977\n",
      "R2 baseline test score: 0.8564585796009495\n",
      "Mean squared error: 912550097.1731025\n"
     ]
    }
   ],
   "source": [
    "# run simple linear regression\n",
    "model = lm.fit(X_train, y_train)\n",
    "print('R2 baseline train score:',model.score(X_train, y_train))\n",
    "print('R2 baseline test score:',model.score(X_test, y_test))\n",
    "yhat_skl = lm.predict(X_test)\n",
    "yhat = lm.predict(X_train)\n",
    "# get y-residuals for train and test  for Q2.\n",
    "yrestrain = -yhat+ y_train\n",
    "yrestest = -yhat_skl + y_test\n",
    "print('Mean squared error:', mean_squared_error(y_test, yhat_skl))\n",
    "# pretty good!! "
   ]
  },
  {
   "cell_type": "code",
   "execution_count": 15,
   "metadata": {},
   "outputs": [],
   "source": [
    "# 85.6% of house prices are attributed to fixed hse features, which is roughly 30% more than \n",
    "# just location alone. \n",
    "\n",
    "# save scores\n",
    "SLRallfixed = [model.score(X_test, y_test), np.nan, mean_squared_error(y_test, yhat_skl)]"
   ]
  },
  {
   "cell_type": "code",
   "execution_count": 16,
   "metadata": {},
   "outputs": [
    {
     "data": {
      "text/plain": [
       "Text(0.5,1,'Actual vs. Predicted Home Values')"
      ]
     },
     "execution_count": 16,
     "metadata": {},
     "output_type": "execute_result"
    },
    {
     "data": {
      "image/png": "[encoded data removed]",
      "text/plain": [
       "<Figure size 432x288 with 1 Axes>"
      ]
     },
     "metadata": {
      "image/png": {
       "height": 276,
       "width": 404
      },
      "needs_background": "light"
     },
     "output_type": "display_data"
    }
   ],
   "source": [
    "# plot actual vs predicted house values\n",
    "plt.plot([min(y_test), max(y_test)], [min(y_test), max(y_test)], c = 'k', alpha = .6)\n",
    "plt.scatter(y_test, yhat_skl, alpha = .5)\n",
    "plt.xlabel('actual price sold')\n",
    "plt.ylabel('predicted price sold')\n",
    "plt.title('Actual vs. Predicted Home Values')\n",
    "\n",
    "# 85.6% of house prices are attributed to fixed hse features, which is roughly 30% more than \n",
    "# just location alone. "
   ]
  },
  {
   "cell_type": "code",
   "execution_count": 17,
   "metadata": {},
   "outputs": [],
   "source": [
    "# note though that residuals are evenly spread on either side of regression line until about $350k (on x-axis), implying \n",
    "# that the model tends to consistently underpredict house prices. "
   ]
  },
  {
   "cell_type": "code",
   "execution_count": 18,
   "metadata": {},
   "outputs": [
    {
     "data": {
      "text/html": [
       "<div>\n",
       "<style scoped>\n",
       "    .dataframe tbody tr th:only-of-type {\n",
       "        vertical-align: middle;\n",
       "    }\n",
       "\n",
       "    .dataframe tbody tr th {\n",
       "        vertical-align: top;\n",
       "    }\n",
       "\n",
       "    .dataframe thead th {\n",
       "        text-align: right;\n",
       "    }\n",
       "</style>\n",
       "<table border=\"1\" class=\"dataframe\">\n",
       "  <thead>\n",
       "    <tr style=\"text-align: right;\">\n",
       "      <th></th>\n",
       "      <th>Coef</th>\n",
       "      <th>AbsCoef</th>\n",
       "    </tr>\n",
       "  </thead>\n",
       "  <tbody>\n",
       "    <tr>\n",
       "      <th>GrLivArea</th>\n",
       "      <td>36289.570856</td>\n",
       "      <td>36289.570856</td>\n",
       "    </tr>\n",
       "    <tr>\n",
       "      <th>GarageType_Attchd</th>\n",
       "      <td>15599.843629</td>\n",
       "      <td>15599.843629</td>\n",
       "    </tr>\n",
       "    <tr>\n",
       "      <th>GarageType_Detchd</th>\n",
       "      <td>13926.819176</td>\n",
       "      <td>13926.819176</td>\n",
       "    </tr>\n",
       "    <tr>\n",
       "      <th>GarageType_None</th>\n",
       "      <td>12604.576290</td>\n",
       "      <td>12604.576290</td>\n",
       "    </tr>\n",
       "    <tr>\n",
       "      <th>TotalBsmtSF</th>\n",
       "      <td>11208.745306</td>\n",
       "      <td>11208.745306</td>\n",
       "    </tr>\n",
       "    <tr>\n",
       "      <th>Neighborhood_NridgHt</th>\n",
       "      <td>10781.407609</td>\n",
       "      <td>10781.407609</td>\n",
       "    </tr>\n",
       "    <tr>\n",
       "      <th>GarageType_BuiltIn</th>\n",
       "      <td>9818.633109</td>\n",
       "      <td>9818.633109</td>\n",
       "    </tr>\n",
       "    <tr>\n",
       "      <th>BsmtExposure</th>\n",
       "      <td>8734.267885</td>\n",
       "      <td>8734.267885</td>\n",
       "    </tr>\n",
       "    <tr>\n",
       "      <th>Neighborhood_NoRidge</th>\n",
       "      <td>7941.068686</td>\n",
       "      <td>7941.068686</td>\n",
       "    </tr>\n",
       "    <tr>\n",
       "      <th>Neighborhood_StoneBr</th>\n",
       "      <td>7357.650142</td>\n",
       "      <td>7357.650142</td>\n",
       "    </tr>\n",
       "  </tbody>\n",
       "</table>\n",
       "</div>"
      ],
      "text/plain": [
       "                              Coef       AbsCoef\n",
       "GrLivArea             36289.570856  36289.570856\n",
       "GarageType_Attchd     15599.843629  15599.843629\n",
       "GarageType_Detchd     13926.819176  13926.819176\n",
       "GarageType_None       12604.576290  12604.576290\n",
       "TotalBsmtSF           11208.745306  11208.745306\n",
       "Neighborhood_NridgHt  10781.407609  10781.407609\n",
       "GarageType_BuiltIn     9818.633109   9818.633109\n",
       "BsmtExposure           8734.267885   8734.267885\n",
       "Neighborhood_NoRidge   7941.068686   7941.068686\n",
       "Neighborhood_StoneBr   7357.650142   7357.650142"
      ]
     },
     "execution_count": 18,
     "metadata": {},
     "output_type": "execute_result"
    }
   ],
   "source": [
    "# print top coeffs\n",
    "FixedCoefs = pd.DataFrame(lm.coef_, index= X_train.columns, columns=['Coef'])\n",
    "FixedCoefs['AbsCoef'] = abs(FixedCoefs.Coef)\n",
    "FixedCoefs.sort_values(by='AbsCoef', ascending=False, inplace=True)\n",
    "FixedCoefs.head(10)"
   ]
  },
  {
   "cell_type": "code",
   "execution_count": null,
   "metadata": {},
   "outputs": [],
   "source": []
  },
  {
   "cell_type": "markdown",
   "metadata": {},
   "source": [
    "#Regularization - to account for multicollinearity"
   ]
  },
  {
   "cell_type": "code",
   "execution_count": 19,
   "metadata": {
    "scrolled": true
   },
   "outputs": [
    {
     "data": {
      "text/plain": [
       "LassoCV(alphas=None, copy_X=True,\n",
       "    cv=KFold(n_splits=10, random_state=None, shuffle=True), eps=0.001,\n",
       "    fit_intercept=True, max_iter=1000, n_alphas=500, n_jobs=None,\n",
       "    normalize=False, positive=False, precompute='auto', random_state=182,\n",
       "    selection='cyclic', tol=0.0001, verbose=False)"
      ]
     },
     "execution_count": 19,
     "metadata": {},
     "output_type": "execute_result"
    }
   ],
   "source": [
    "# Lasso \n",
    "kf_shuffle = KFold(n_splits=10,shuffle=True)\n",
    "\n",
    "LassCV = LassoCV(n_alphas=500, random_state= 182, cv=kf_shuffle)\n",
    "LassCV.fit(X_train, y_train)"
   ]
  },
  {
   "cell_type": "code",
   "execution_count": 20,
   "metadata": {},
   "outputs": [
    {
     "data": {
      "text/plain": [
       "(291.0076254778931, 0.87031854695609)"
      ]
     },
     "execution_count": 20,
     "metadata": {},
     "output_type": "execute_result"
    }
   ],
   "source": [
    "### View alpha and score\n",
    "LassCV.alpha_, LassCV.score(X_train, y_train)"
   ]
  },
  {
   "cell_type": "code",
   "execution_count": 21,
   "metadata": {},
   "outputs": [],
   "source": [
    "### Setup Lasso regression using alpha calculated\n",
    "Lass = Lasso(alpha=LassCV.alpha_)"
   ]
  },
  {
   "cell_type": "code",
   "execution_count": 22,
   "metadata": {
    "scrolled": true
   },
   "outputs": [
    {
     "name": "stdout",
     "output_type": "stream",
     "text": [
      "Mean Lasso score: 0.6661231638826066\n",
      "Std Lasso score: 0.21922395235498493\n",
      "Mean squared error: 1672006896.6122758\n"
     ]
    }
   ],
   "source": [
    "### Run cross validated lasso\n",
    "LassScore = cross_val_score(Lass,X_test, y_test, cv=kf_shuffle)\n",
    "predictions = cross_val_predict(Lass,X_test, y_test, cv=kf_shuffle)\n",
    "print('Mean Lasso score:', np.mean(LassScore))\n",
    "print('Std Lasso score:', np.std(LassScore))\n",
    "print('Mean squared error:', mean_squared_error(y_test, predictions))"
   ]
  },
  {
   "cell_type": "code",
   "execution_count": 23,
   "metadata": {},
   "outputs": [],
   "source": [
    "Lassoallfixed = [np.mean(LassScore),np.std(LassScore),mean_squared_error(y_test, predictions) ]"
   ]
  },
  {
   "cell_type": "code",
   "execution_count": 24,
   "metadata": {},
   "outputs": [
    {
     "data": {
      "text/plain": [
       "Lasso(alpha=291.0076254778931, copy_X=True, fit_intercept=True, max_iter=1000,\n",
       "   normalize=False, positive=False, precompute=False, random_state=None,\n",
       "   selection='cyclic', tol=0.0001, warm_start=False)"
      ]
     },
     "execution_count": 24,
     "metadata": {},
     "output_type": "execute_result"
    }
   ],
   "source": [
    "### Run Lasso to get the most predictive coefficients.\n",
    "Lass.fit(X_train, y_train)"
   ]
  },
  {
   "cell_type": "code",
   "execution_count": 25,
   "metadata": {},
   "outputs": [
    {
     "data": {
      "text/html": [
       "<div>\n",
       "<style scoped>\n",
       "    .dataframe tbody tr th:only-of-type {\n",
       "        vertical-align: middle;\n",
       "    }\n",
       "\n",
       "    .dataframe tbody tr th {\n",
       "        vertical-align: top;\n",
       "    }\n",
       "\n",
       "    .dataframe thead th {\n",
       "        text-align: right;\n",
       "    }\n",
       "</style>\n",
       "<table border=\"1\" class=\"dataframe\">\n",
       "  <thead>\n",
       "    <tr style=\"text-align: right;\">\n",
       "      <th></th>\n",
       "      <th>Coef</th>\n",
       "      <th>AbsCoef</th>\n",
       "    </tr>\n",
       "  </thead>\n",
       "  <tbody>\n",
       "    <tr>\n",
       "      <th>GrLivArea</th>\n",
       "      <td>36514.003207</td>\n",
       "      <td>36514.003207</td>\n",
       "    </tr>\n",
       "    <tr>\n",
       "      <th>TotalBsmtSF</th>\n",
       "      <td>11399.155609</td>\n",
       "      <td>11399.155609</td>\n",
       "    </tr>\n",
       "    <tr>\n",
       "      <th>Neighborhood_NridgHt</th>\n",
       "      <td>8928.965548</td>\n",
       "      <td>8928.965548</td>\n",
       "    </tr>\n",
       "    <tr>\n",
       "      <th>BsmtExposure</th>\n",
       "      <td>8248.593087</td>\n",
       "      <td>8248.593087</td>\n",
       "    </tr>\n",
       "    <tr>\n",
       "      <th>YearRemodAdd</th>\n",
       "      <td>7288.635804</td>\n",
       "      <td>7288.635804</td>\n",
       "    </tr>\n",
       "    <tr>\n",
       "      <th>Neighborhood_NoRidge</th>\n",
       "      <td>6344.510404</td>\n",
       "      <td>6344.510404</td>\n",
       "    </tr>\n",
       "    <tr>\n",
       "      <th>Neighborhood_StoneBr</th>\n",
       "      <td>6229.637207</td>\n",
       "      <td>6229.637207</td>\n",
       "    </tr>\n",
       "    <tr>\n",
       "      <th>MasVnrArea</th>\n",
       "      <td>6183.456479</td>\n",
       "      <td>6183.456479</td>\n",
       "    </tr>\n",
       "    <tr>\n",
       "      <th>KitchenAbvGr</th>\n",
       "      <td>-6078.846551</td>\n",
       "      <td>6078.846551</td>\n",
       "    </tr>\n",
       "    <tr>\n",
       "      <th>BedroomAbvGr</th>\n",
       "      <td>-5702.585832</td>\n",
       "      <td>5702.585832</td>\n",
       "    </tr>\n",
       "  </tbody>\n",
       "</table>\n",
       "</div>"
      ],
      "text/plain": [
       "                              Coef       AbsCoef\n",
       "GrLivArea             36514.003207  36514.003207\n",
       "TotalBsmtSF           11399.155609  11399.155609\n",
       "Neighborhood_NridgHt   8928.965548   8928.965548\n",
       "BsmtExposure           8248.593087   8248.593087\n",
       "YearRemodAdd           7288.635804   7288.635804\n",
       "Neighborhood_NoRidge   6344.510404   6344.510404\n",
       "Neighborhood_StoneBr   6229.637207   6229.637207\n",
       "MasVnrArea             6183.456479   6183.456479\n",
       "KitchenAbvGr          -6078.846551   6078.846551\n",
       "BedroomAbvGr          -5702.585832   5702.585832"
      ]
     },
     "execution_count": 25,
     "metadata": {},
     "output_type": "execute_result"
    }
   ],
   "source": [
    "### Map lasso coefficients to its column names\n",
    "dfl = pd.DataFrame(Lass.coef_, index= allfixed.columns, columns=['Coef'])\n",
    "dfl['AbsCoef'] = abs(dfl.Coef)\n",
    "LassoCoefs = dfl[~(abs(dfl['Coef']) == 0)].sort_values(by='AbsCoef', ascending=False)\n",
    "LassoCoefs.head(10)"
   ]
  },
  {
   "cell_type": "code",
   "execution_count": 26,
   "metadata": {},
   "outputs": [],
   "source": [
    "#the top features are quite similar to the linear regression run, but R2 score for Lasso is not as good. "
   ]
  },
  {
   "cell_type": "code",
   "execution_count": 27,
   "metadata": {},
   "outputs": [
    {
     "name": "stdout",
     "output_type": "stream",
     "text": [
      "Mean CV R2: 0.7697954836524237\n",
      "Std CV R2: 0.08153643475818208\n",
      "Mean squared error: 1466213933.4293902\n"
     ]
    }
   ],
   "source": [
    "# regularization\n",
    "#ridge\n",
    "from sklearn.linear_model import Ridge\n",
    "\n",
    "ridge_alphas = 10**np.linspace(10,-2,50)*0.5   # np.logspace(-2, 7, 50)\n",
    "\n",
    "optimal_ridge = RidgeCV(alphas=ridge_alphas, cv=10)\n",
    "optimal_ridge.fit(X_train, y_train)\n",
    "\n",
    "ridge = Ridge(alpha=optimal_ridge.alpha_)\n",
    "predictions = cross_val_predict(ridge, X_test, y_test, cv=10)\n",
    "\n",
    "ridge_scores = cross_val_score(ridge, X_test, y_test, cv=10)\n",
    "\n",
    "print('Mean CV R2:', np.mean(ridge_scores))\n",
    "print('Std CV R2:', np.std(ridge_scores))\n",
    "print('Mean squared error:', mean_squared_error(y_test, predictions))\n"
   ]
  },
  {
   "cell_type": "code",
   "execution_count": 28,
   "metadata": {},
   "outputs": [],
   "source": [
    "Ridgeallfixed = [np.mean(ridge_scores),np.std(ridge_scores),mean_squared_error(y_test, predictions) ]"
   ]
  },
  {
   "cell_type": "code",
   "execution_count": 29,
   "metadata": {},
   "outputs": [
    {
     "name": "stdout",
     "output_type": "stream",
     "text": [
      "Mean CV R2: 0.7056769273833825\n",
      "Std CV R2: 0.11930063876710362\n",
      "Mean squared error: 1636156309.1838589\n"
     ]
    }
   ],
   "source": [
    "#elasticnet\n",
    "\n",
    "enet_alphas =[ 0.0125, 0.025, 0.05, .125, .25, .5, 1., 2., 4.]  # np.logspace(-2, 7, 50)\n",
    "\n",
    "optimal_enet = ElasticNetCV(alphas = enet_alphas, cv=10)\n",
    "optimal_enet.fit(X_train, y_train)\n",
    "\n",
    "enet = ElasticNet(alpha=optimal_enet.alpha_)\n",
    "predictions = cross_val_predict(enet, X_test, y_test, cv=10)\n",
    "\n",
    "enet_scores = cross_val_score(enet, X_test, y_test, cv=10)\n",
    "\n",
    "print('Mean CV R2:', np.mean(enet_scores))\n",
    "print('Std CV R2:', np.std(enet_scores))\n",
    "print('Mean squared error:', mean_squared_error(y_test, predictions))\n"
   ]
  },
  {
   "cell_type": "code",
   "execution_count": 30,
   "metadata": {},
   "outputs": [],
   "source": [
    "Enetallfixed = [np.mean(enet_scores),np.std(enet_scores),mean_squared_error(y_test, predictions) ]"
   ]
  },
  {
   "cell_type": "code",
   "execution_count": 31,
   "metadata": {},
   "outputs": [
    {
     "data": {
      "text/plain": [
       "{'SLRallfixed': [0.8564585796009495, nan, 912550097.1731025],\n",
       " 'Lassoallfixed': [0.6661231638826066,\n",
       "  0.21922395235498493,\n",
       "  1672006896.6122758],\n",
       " 'Ridgeallfixed': [0.7697954836524237,\n",
       "  0.08153643475818208,\n",
       "  1466213933.4293902],\n",
       " 'Enetallfixed': [0.7056769273833825, 0.11930063876710362, 1636156309.1838589]}"
      ]
     },
     "execution_count": 31,
     "metadata": {},
     "output_type": "execute_result"
    }
   ],
   "source": [
    "results = {'SLRallfixed': SLRallfixed, 'Lassoallfixed':Lassoallfixed,'Ridgeallfixed':Ridgeallfixed,'Enetallfixed':Enetallfixed}\n",
    "results"
   ]
  },
  {
   "cell_type": "code",
   "execution_count": 32,
   "metadata": {},
   "outputs": [],
   "source": [
    "# now let's try using the top 15 features from 'FixedCoefs' to see if scores improve\n",
    "# the R2 for the train set was 85.6% last time.\n",
    "FixedCoefs10 = dfs[FixedCoefs.index[0:10]]"
   ]
  },
  {
   "cell_type": "code",
   "execution_count": 33,
   "metadata": {},
   "outputs": [
    {
     "name": "stderr",
     "output_type": "stream",
     "text": [
      "C:\\Users\\schen24\\Anaconda3\\lib\\site-packages\\sklearn\\preprocessing\\data.py:625: DataConversionWarning: Data with input dtype uint8, int32, int64 were all converted to float64 by StandardScaler.\n",
      "  return self.partial_fit(X, y)\n",
      "C:\\Users\\schen24\\Anaconda3\\lib\\site-packages\\sklearn\\base.py:462: DataConversionWarning: Data with input dtype uint8, int32, int64 were all converted to float64 by StandardScaler.\n",
      "  return self.fit(X, **fit_params).transform(X)\n",
      "C:\\Users\\schen24\\Anaconda3\\lib\\site-packages\\ipykernel_launcher.py:8: DataConversionWarning: Data with input dtype uint8, int32, int64 were all converted to float64 by StandardScaler.\n",
      "  \n",
      "C:\\Users\\schen24\\Anaconda3\\lib\\site-packages\\sklearn\\preprocessing\\data.py:625: DataConversionWarning: Data with input dtype uint8, int32, int64 were all converted to float64 by StandardScaler.\n",
      "  return self.partial_fit(X, y)\n",
      "C:\\Users\\schen24\\Anaconda3\\lib\\site-packages\\sklearn\\base.py:462: DataConversionWarning: Data with input dtype uint8, int32, int64 were all converted to float64 by StandardScaler.\n",
      "  return self.fit(X, **fit_params).transform(X)\n",
      "C:\\Users\\schen24\\Anaconda3\\lib\\site-packages\\ipykernel_launcher.py:8: DataConversionWarning: Data with input dtype uint8, int32, int64 were all converted to float64 by StandardScaler.\n",
      "  \n"
     ]
    },
    {
     "data": {
      "text/html": [
       "<div>\n",
       "<style scoped>\n",
       "    .dataframe tbody tr th:only-of-type {\n",
       "        vertical-align: middle;\n",
       "    }\n",
       "\n",
       "    .dataframe tbody tr th {\n",
       "        vertical-align: top;\n",
       "    }\n",
       "\n",
       "    .dataframe thead th {\n",
       "        text-align: right;\n",
       "    }\n",
       "</style>\n",
       "<table border=\"1\" class=\"dataframe\">\n",
       "  <thead>\n",
       "    <tr style=\"text-align: right;\">\n",
       "      <th></th>\n",
       "      <th>GrLivArea</th>\n",
       "      <th>GarageType_Attchd</th>\n",
       "      <th>GarageType_Detchd</th>\n",
       "      <th>GarageType_None</th>\n",
       "      <th>TotalBsmtSF</th>\n",
       "      <th>Neighborhood_NridgHt</th>\n",
       "      <th>GarageType_BuiltIn</th>\n",
       "      <th>BsmtExposure</th>\n",
       "      <th>Neighborhood_NoRidge</th>\n",
       "      <th>Neighborhood_StoneBr</th>\n",
       "    </tr>\n",
       "  </thead>\n",
       "  <tbody>\n",
       "    <tr>\n",
       "      <th>0</th>\n",
       "      <td>0.381329</td>\n",
       "      <td>0.823983</td>\n",
       "      <td>-0.607535</td>\n",
       "      <td>-0.237258</td>\n",
       "      <td>-0.476784</td>\n",
       "      <td>-0.239095</td>\n",
       "      <td>-0.253417</td>\n",
       "      <td>-0.631694</td>\n",
       "      <td>-0.165455</td>\n",
       "      <td>-0.126189</td>\n",
       "    </tr>\n",
       "    <tr>\n",
       "      <th>1</th>\n",
       "      <td>-0.500427</td>\n",
       "      <td>0.823983</td>\n",
       "      <td>-0.607535</td>\n",
       "      <td>-0.237258</td>\n",
       "      <td>0.500110</td>\n",
       "      <td>-0.239095</td>\n",
       "      <td>-0.253417</td>\n",
       "      <td>2.240189</td>\n",
       "      <td>-0.165455</td>\n",
       "      <td>-0.126189</td>\n",
       "    </tr>\n",
       "    <tr>\n",
       "      <th>2</th>\n",
       "      <td>0.530912</td>\n",
       "      <td>0.823983</td>\n",
       "      <td>-0.607535</td>\n",
       "      <td>-0.237258</td>\n",
       "      <td>-0.322791</td>\n",
       "      <td>-0.239095</td>\n",
       "      <td>-0.253417</td>\n",
       "      <td>0.325600</td>\n",
       "      <td>-0.165455</td>\n",
       "      <td>-0.126189</td>\n",
       "    </tr>\n",
       "    <tr>\n",
       "      <th>3</th>\n",
       "      <td>0.395106</td>\n",
       "      <td>-1.213618</td>\n",
       "      <td>1.645996</td>\n",
       "      <td>-0.237258</td>\n",
       "      <td>-0.717398</td>\n",
       "      <td>-0.239095</td>\n",
       "      <td>-0.253417</td>\n",
       "      <td>-0.631694</td>\n",
       "      <td>-0.165455</td>\n",
       "      <td>-0.126189</td>\n",
       "    </tr>\n",
       "    <tr>\n",
       "      <th>4</th>\n",
       "      <td>1.341812</td>\n",
       "      <td>0.823983</td>\n",
       "      <td>-0.607535</td>\n",
       "      <td>-0.237258</td>\n",
       "      <td>0.218591</td>\n",
       "      <td>-0.239095</td>\n",
       "      <td>-0.253417</td>\n",
       "      <td>1.282895</td>\n",
       "      <td>6.043957</td>\n",
       "      <td>-0.126189</td>\n",
       "    </tr>\n",
       "  </tbody>\n",
       "</table>\n",
       "</div>"
      ],
      "text/plain": [
       "   GrLivArea  GarageType_Attchd  GarageType_Detchd  GarageType_None  \\\n",
       "0   0.381329           0.823983          -0.607535        -0.237258   \n",
       "1  -0.500427           0.823983          -0.607535        -0.237258   \n",
       "2   0.530912           0.823983          -0.607535        -0.237258   \n",
       "3   0.395106          -1.213618           1.645996        -0.237258   \n",
       "4   1.341812           0.823983          -0.607535        -0.237258   \n",
       "\n",
       "   TotalBsmtSF  Neighborhood_NridgHt  GarageType_BuiltIn  BsmtExposure  \\\n",
       "0    -0.476784             -0.239095           -0.253417     -0.631694   \n",
       "1     0.500110             -0.239095           -0.253417      2.240189   \n",
       "2    -0.322791             -0.239095           -0.253417      0.325600   \n",
       "3    -0.717398             -0.239095           -0.253417     -0.631694   \n",
       "4     0.218591             -0.239095           -0.253417      1.282895   \n",
       "\n",
       "   Neighborhood_NoRidge  Neighborhood_StoneBr  \n",
       "0             -0.165455             -0.126189  \n",
       "1             -0.165455             -0.126189  \n",
       "2             -0.165455             -0.126189  \n",
       "3             -0.165455             -0.126189  \n",
       "4              6.043957             -0.126189  "
      ]
     },
     "execution_count": 33,
     "metadata": {},
     "output_type": "execute_result"
    }
   ],
   "source": [
    "# slice x values again\n",
    "X_train = slicex(FixedCoefs10)[0]\n",
    "X_test = slicex(FixedCoefs10)[1]\n",
    "X_train.head()"
   ]
  },
  {
   "cell_type": "code",
   "execution_count": 34,
   "metadata": {},
   "outputs": [
    {
     "name": "stdout",
     "output_type": "stream",
     "text": [
      "Mean CV R2: 0.6994569638695068\n",
      "Std CV R2: 0.13222189767030068\n",
      "Mean squared error: 1634461960.9148698\n"
     ]
    }
   ],
   "source": [
    "# run Ridge, SLR and Lasso with top 10 fixed features\n",
    "from sklearn.linear_model import Ridge\n",
    "\n",
    "ridge_alphas = 10**np.linspace(10,-2,50)*0.5   # np.logspace(-2, 7, 50)\n",
    "\n",
    "optimal_ridge = RidgeCV(alphas=ridge_alphas, cv=10)\n",
    "optimal_ridge.fit(X_train, y_train)\n",
    "\n",
    "ridge = Ridge(alpha=optimal_ridge.alpha_)\n",
    "predictions = cross_val_predict(ridge, X_test, y_test, cv=10)\n",
    "\n",
    "ridge_scores = cross_val_score(ridge, X_test, y_test, cv=10)\n",
    "\n",
    "print('Mean CV R2:', np.mean(ridge_scores))\n",
    "print('Std CV R2:', np.std(ridge_scores))\n",
    "print('Mean squared error:', mean_squared_error(y_test, predictions))\n",
    "Ridgeallfixed10 = [np.mean(ridge_scores),np.std(ridge_scores),mean_squared_error(y_test, predictions) ]"
   ]
  },
  {
   "cell_type": "code",
   "execution_count": 35,
   "metadata": {},
   "outputs": [
    {
     "name": "stdout",
     "output_type": "stream",
     "text": [
      "R2 baseline train score: 0.7871043953953534\n",
      "R2 baseline test score: 0.795775167600816\n",
      "Mean squared error: 1298338766.1410432\n"
     ]
    }
   ],
   "source": [
    "# run simple linear regression on top 10 factors\n",
    "\n",
    "lm = LinearRegression()\n",
    "\n",
    "model = lm.fit(X_train, y_train)\n",
    "\n",
    "print('R2 baseline train score:',model.score(X_train, y_train))\n",
    "\n",
    "print('R2 baseline test score:',model.score(X_test, y_test))\n",
    "\n",
    "yhat_skl = lm.predict(X_test)\n",
    "\n",
    "print('Mean squared error:', mean_squared_error(y_test, yhat_skl))"
   ]
  },
  {
   "cell_type": "code",
   "execution_count": 36,
   "metadata": {},
   "outputs": [],
   "source": [
    "SLRallfixed10 = [model.score(X_test, y_test), np.nan, mean_squared_error(y_test, yhat_skl)]"
   ]
  },
  {
   "cell_type": "code",
   "execution_count": 37,
   "metadata": {},
   "outputs": [
    {
     "name": "stdout",
     "output_type": "stream",
     "text": [
      "Mean Lasso score: 0.6364841484594863\n",
      "Std Lasso score: 0.3948465740207756\n",
      "Mean squared error: 1531898598.7671576\n"
     ]
    }
   ],
   "source": [
    "# Lasso w top 10 factors\n",
    "\n",
    "kf_shuffle = KFold(n_splits=10,shuffle=True)\n",
    "LassCV = LassoCV(n_alphas=500, cv=kf_shuffle)\n",
    "LassCV.fit(X_train, y_train)\n",
    "\n",
    "### View alpha and score\n",
    "LassCV.alpha_, LassCV.score(X_train, y_train)\n",
    "\n",
    "### Setup Lasso regression using alpha calculated\n",
    "Lass = Lasso(alpha=LassCV.alpha_)\n",
    "\n",
    "### Run cross validated lasso\n",
    "LassScore = cross_val_score(Lass,X_test, y_test, cv=kf_shuffle)\n",
    "predictions = cross_val_predict(Lass,X_test, y_test, cv=kf_shuffle)\n",
    "print('Mean Lasso score:', np.mean(LassScore))\n",
    "print('Std Lasso score:', np.std(LassScore))\n",
    "print('Mean squared error:', mean_squared_error(y_test, predictions))"
   ]
  },
  {
   "cell_type": "code",
   "execution_count": 38,
   "metadata": {},
   "outputs": [],
   "source": [
    "Lassoallfixed10 = [np.mean(LassScore),np.std(LassScore),mean_squared_error(y_test, predictions) ]"
   ]
  },
  {
   "cell_type": "code",
   "execution_count": 39,
   "metadata": {},
   "outputs": [],
   "source": [
    "results.update({'SLRallfixed10': SLRallfixed10,'Lassoallfixed10': Lassoallfixed10, 'Ridgeallfixed10':Ridgeallfixed10})"
   ]
  },
  {
   "cell_type": "code",
   "execution_count": 40,
   "metadata": {},
   "outputs": [
    {
     "data": {
      "text/html": [
       "<div>\n",
       "<style scoped>\n",
       "    .dataframe tbody tr th:only-of-type {\n",
       "        vertical-align: middle;\n",
       "    }\n",
       "\n",
       "    .dataframe tbody tr th {\n",
       "        vertical-align: top;\n",
       "    }\n",
       "\n",
       "    .dataframe thead th {\n",
       "        text-align: right;\n",
       "    }\n",
       "</style>\n",
       "<table border=\"1\" class=\"dataframe\">\n",
       "  <thead>\n",
       "    <tr style=\"text-align: right;\">\n",
       "      <th></th>\n",
       "      <th>Mean</th>\n",
       "      <th>Std Dev</th>\n",
       "      <th>MSE</th>\n",
       "    </tr>\n",
       "  </thead>\n",
       "  <tbody>\n",
       "    <tr>\n",
       "      <th>SLRallfixed</th>\n",
       "      <td>0.856459</td>\n",
       "      <td>NaN</td>\n",
       "      <td>9.125501e+08</td>\n",
       "    </tr>\n",
       "    <tr>\n",
       "      <th>SLRallfixed10</th>\n",
       "      <td>0.795775</td>\n",
       "      <td>NaN</td>\n",
       "      <td>1.298339e+09</td>\n",
       "    </tr>\n",
       "    <tr>\n",
       "      <th>Ridgeallfixed</th>\n",
       "      <td>0.769795</td>\n",
       "      <td>0.081536</td>\n",
       "      <td>1.466214e+09</td>\n",
       "    </tr>\n",
       "    <tr>\n",
       "      <th>Enetallfixed</th>\n",
       "      <td>0.705677</td>\n",
       "      <td>0.119301</td>\n",
       "      <td>1.636156e+09</td>\n",
       "    </tr>\n",
       "    <tr>\n",
       "      <th>Ridgeallfixed10</th>\n",
       "      <td>0.699457</td>\n",
       "      <td>0.132222</td>\n",
       "      <td>1.634462e+09</td>\n",
       "    </tr>\n",
       "    <tr>\n",
       "      <th>Lassoallfixed</th>\n",
       "      <td>0.666123</td>\n",
       "      <td>0.219224</td>\n",
       "      <td>1.672007e+09</td>\n",
       "    </tr>\n",
       "    <tr>\n",
       "      <th>Lassoallfixed10</th>\n",
       "      <td>0.636484</td>\n",
       "      <td>0.394847</td>\n",
       "      <td>1.531899e+09</td>\n",
       "    </tr>\n",
       "  </tbody>\n",
       "</table>\n",
       "</div>"
      ],
      "text/plain": [
       "                     Mean   Std Dev           MSE\n",
       "SLRallfixed      0.856459       NaN  9.125501e+08\n",
       "SLRallfixed10    0.795775       NaN  1.298339e+09\n",
       "Ridgeallfixed    0.769795  0.081536  1.466214e+09\n",
       "Enetallfixed     0.705677  0.119301  1.636156e+09\n",
       "Ridgeallfixed10  0.699457  0.132222  1.634462e+09\n",
       "Lassoallfixed    0.666123  0.219224  1.672007e+09\n",
       "Lassoallfixed10  0.636484  0.394847  1.531899e+09"
      ]
     },
     "execution_count": 40,
     "metadata": {},
     "output_type": "execute_result"
    }
   ],
   "source": [
    "# print summary of results of all linear regressions\n",
    "pd.DataFrame.from_dict(results, orient='index', columns=['Mean', 'Std Dev', 'MSE']).sort_values(by='Mean', ascending=False)\n"
   ]
  },
  {
   "cell_type": "markdown",
   "metadata": {},
   "source": [
    "CONCLUSION: \n",
    "1) simple linear regression seems to perform best among all the regression models, while using all fixed factors gave better results than just using the top 10. we will therefore use the residuals from 'SLRallfixed' to model against renovatable factors in Q2.  \n",
    "2) the top factors affecting property prices are: Gross Living Area, Garage Type, Basement Area / exposure and the neighbourhood the house is located in. The results are consistent with EDA done earlier on simple correlation between neighbourhoods and sale price, house size and sale price. \n",
    "3) the model tends to underpredict actual house prices after $350k, which may imply that other unaccounted factors are strongly affecting house prices above this price point. "
   ]
  },
  {
   "cell_type": "code",
   "execution_count": null,
   "metadata": {},
   "outputs": [],
   "source": []
  },
  {
   "cell_type": "code",
   "execution_count": 41,
   "metadata": {},
   "outputs": [
    {
     "name": "stdout",
     "output_type": "stream",
     "text": [
      "Stored 'yrestrain' (Series)\n",
      "Stored 'yrestest' (Series)\n",
      "Stored 'FixedCoefs' (DataFrame)\n"
     ]
    }
   ],
   "source": [
    "# store y residuals from SLR regression earlier\n",
    "%store yrestrain\n",
    "%store yrestest\n",
    "%store FixedCoefs\n",
    "#del data"
   ]
  }
 ],
 "metadata": {
  "kernelspec": {
   "display_name": "Python 3",
   "language": "python",
   "name": "python3"
  },
  "language_info": {
   "codemirror_mode": {
    "name": "ipython",
    "version": 3
   },
   "file_extension": ".py",
   "mimetype": "text/x-python",
   "name": "python",
   "nbconvert_exporter": "python",
   "pygments_lexer": "ipython3",
   "version": "3.7.0"
  }
 },
 "nbformat": 4,
 "nbformat_minor": 2
}
